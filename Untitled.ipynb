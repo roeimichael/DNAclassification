{
 "cells": [
  {
   "cell_type": "code",
   "execution_count": 7,
   "id": "f364b458",
   "metadata": {
    "scrolled": true
   },
   "outputs": [
    {
     "name": "stderr",
     "output_type": "stream",
     "text": [
      "Processing lineages: 100%|█████████████████████████████████████████████████████████████| 10/10 [02:24<00:00, 14.42s/it]"
     ]
    },
    {
     "name": "stdout",
     "output_type": "stream",
     "text": [
      "Download completed!\n"
     ]
    },
    {
     "name": "stderr",
     "output_type": "stream",
     "text": [
      "\n"
     ]
    }
   ],
   "source": [
    "import random\n",
    "import requests\n",
    "import io\n",
    "import re\n",
    "from collections import defaultdict\n",
    "import pandas as pd\n",
    "from tqdm import tqdm\n",
    "from Bio import SeqIO\n",
    "import concurrent.futures\n",
    "\n",
    "# The metadata file\n",
    "with open(\"./data/metadata\", \"r\") as file:\n",
    "    metadata_lines = file.readlines()\n",
    "\n",
    "lineage_samples = defaultdict(list)\n",
    "unique_lineages = set()\n",
    "\n",
    "# Prepare a list to hold selected samples\n",
    "samples_list = []\n",
    "\n",
    "for line in metadata_lines[1:]:\n",
    "    columns = line.strip().split(\"\\t\")\n",
    "    accession_id = columns[0]\n",
    "    lineage = columns[1]\n",
    "    lineage_samples[lineage].append(accession_id)\n",
    "    unique_lineages.add(lineage)\n",
    "\n",
    "# Ensure selected lineages have at least 500 samples\n",
    "selected_lineages = [lineage for lineage in unique_lineages if len(lineage_samples[lineage]) >= 500][:10]\n",
    "\n",
    "max_sequences_per_lineage = 500\n",
    "max_sequences = max_sequences_per_lineage * len(selected_lineages)\n",
    "\n",
    "# desired sequence length\n",
    "DESIRED_LENGTH = 29809\n",
    "\n",
    "# define download function\n",
    "def download_sample(sample, lineage):\n",
    "    url = f\"https://www.ebi.ac.uk/Tools/dbfetch/dbfetch?db=ena_sequence&id={sample}&format=fasta&style=raw&Retrieve=Retrieve\"\n",
    "    response = requests.get(url)\n",
    "    if response.status_code == 200:\n",
    "        filename = re.sub(r'[\\\\/:\\*\\?\"<>\\|()]', '_', sample)\n",
    "        sequence = str(list(SeqIO.read(io.StringIO(response.text), \"fasta\").seq))\n",
    "        # adjust sequence length\n",
    "        if len(sequence) > DESIRED_LENGTH:\n",
    "            sequence = sequence[:DESIRED_LENGTH]  # chop off the end\n",
    "        elif len(sequence) < DESIRED_LENGTH:\n",
    "            sequence += 'N' * (DESIRED_LENGTH - len(sequence))  # pad with N's\n",
    "        with io.open(f\"./data/fasta_files/{filename}.fasta\", \"w\", encoding=\"utf-8\") as seq_file:\n",
    "            seq_file.write(f'>{filename}\\n{sequence}')\n",
    "        # Append the data to the list without the sequence\n",
    "        return {'id': sample, 'lineage': lineage}\n",
    "\n",
    "with concurrent.futures.ThreadPoolExecutor(max_workers=20) as executor:\n",
    "    for lineage in tqdm(selected_lineages, desc=\"Processing lineages\"):\n",
    "        samples = random.sample(lineage_samples[lineage], max_sequences_per_lineage)\n",
    "        lineage_samples[lineage] = list(set(lineage_samples[lineage]) - set(samples))\n",
    "        futures = {executor.submit(download_sample, sample, lineage) for sample in samples}\n",
    "        for future in concurrent.futures.as_completed(futures):\n",
    "            result = future.result()\n",
    "            if result:\n",
    "                samples_list.append(result)\n",
    "\n",
    "print(\"Download completed!\")\n",
    "\n",
    "# Convert the list of dictionaries to a dataframe\n",
    "df = pd.DataFrame(samples_list)\n",
    "\n",
    "# Save the dataframe to csv\n",
    "df.to_csv(\"./data/dataset.csv\", index=False)\n"
   ]
  },
  {
   "cell_type": "code",
   "execution_count": 5,
   "id": "da2cc88e",
   "metadata": {},
   "outputs": [
    {
     "name": "stdout",
     "output_type": "stream",
     "text": [
      "Mean length: 29809.7322\n"
     ]
    }
   ],
   "source": [
    "import random\n",
    "import requests\n",
    "import io\n",
    "import re\n",
    "from collections import defaultdict\n",
    "import pandas as pd\n",
    "from tqdm import tqdm\n",
    "from Bio import SeqIO\n",
    "import concurrent.futures\n",
    "\n",
    "# The metadata file\n",
    "with open(\"./data/metadata\", \"r\") as file:\n",
    "    metadata_lines = file.readlines()\n",
    "\n",
    "lineage_samples = defaultdict(list)\n",
    "unique_lineages = set()\n",
    "\n",
    "# Prepare a list to hold selected samples\n",
    "samples_list = []\n",
    "\n",
    "for line in metadata_lines[1:]:\n",
    "    columns = line.strip().split(\"\\t\")\n",
    "    accession_id = columns[0]\n",
    "    lineage = columns[1]\n",
    "    lineage_samples[lineage].append(accession_id)\n",
    "    unique_lineages.add(lineage)\n",
    "\n",
    "# Ensure selected lineages have at least 500 samples\n",
    "selected_lineages = [lineage for lineage in unique_lineages if len(lineage_samples[lineage]) >= 500][:10]\n",
    "\n",
    "max_sequences_per_lineage = 500\n",
    "max_sequences = max_sequences_per_lineage * len(selected_lineages)\n",
    "\n",
    "# define download function\n",
    "def download_sample(sample, lineage):\n",
    "    url = f\"https://www.ebi.ac.uk/Tools/dbfetch/dbfetch?db=ena_sequence&id={sample}&format=fasta&style=raw&Retrieve=Retrieve\"\n",
    "    response = requests.get(url)\n",
    "    if response.status_code == 200:\n",
    "        filename = re.sub(r'[\\\\/:\\*\\?\"<>\\|()]', '_', sample)\n",
    "        with io.open(f\"./data/fasta_files/{filename}.fasta\", \"w\", encoding=\"utf-8\") as seq_file:\n",
    "            seq_file.write(response.text)\n",
    "        # Append the data to the list without the sequence\n",
    "        return {'id': sample, 'lineage': lineage}\n",
    "\n",
    "with concurrent.futures.ThreadPoolExecutor(max_workers=20) as executor:\n",
    "    for lineage in tqdm(selected_lineages, desc=\"Processing lineages\"):\n",
    "        samples = random.sample(lineage_samples[lineage], max_sequences_per_lineage)\n",
    "        lineage_samples[lineage] = list(set(lineage_samples[lineage]) - set(samples))\n",
    "        futures = {executor.submit(download_sample, sample, lineage) for sample in samples}\n",
    "        for future in concurrent.futures.as_completed(futures):\n",
    "            result = future.result()\n",
    "            if result:\n",
    "                samples_list.append(result)\n",
    "\n",
    "print(\"Download completed!\")\n",
    "\n",
    "# Convert the list of dictionaries to a dataframe\n",
    "df = pd.DataFrame(samples_list)\n",
    "\n",
    "# Save the dataframe to csv\n",
    "df.to_csv(\"./data/dataset.csv\", index=False)"
   ]
  },
  {
   "cell_type": "code",
   "execution_count": 7,
   "id": "9fc09e47",
   "metadata": {},
   "outputs": [
    {
     "name": "stderr",
     "output_type": "stream",
     "text": [
      "C:\\Users\\roeym\\AppData\\Local\\Temp/ipykernel_12972/1723808527.py:6: DtypeWarning: Columns (1,8) have mixed types. Specify dtype option on import or set low_memory=False.\n",
      "  metadata = pd.read_csv('./data/metadata', delimiter='\\t')\n",
      "100%|█████████████████████████████████████████████████████████████████████████| 4982/4982 [00:00<00:00, 1251633.57it/s]\n"
     ]
    }
   ],
   "source": [
    "import pandas as pd\n",
    "import os\n",
    "from tqdm import tqdm\n",
    "\n",
    "metadata = pd.read_csv('./data/metadata', delimiter='\\t')\n",
    "fasta_dir = './data/xes_files/'\n",
    "fasta_files = os.listdir(fasta_dir)\n",
    "fasta_ids = []\n",
    "for file_name in tqdm(fasta_files):  \n",
    "    if file_name.endswith('.fasta'):\n",
    "        id_part = file_name.split('_')[1]\n",
    "        fasta_ids.append(id_part)\n",
    "\n",
    "subdata = metadata[metadata['id'].isin(fasta_ids)]\n",
    "\n",
    "subdata.to_csv('sampled_data.csv', index=False)\n"
   ]
  },
  {
   "cell_type": "code",
   "execution_count": null,
   "id": "359c9956",
   "metadata": {},
   "outputs": [],
   "source": []
  }
 ],
 "metadata": {
  "kernelspec": {
   "display_name": "Python 3 (ipykernel)",
   "language": "python",
   "name": "python3"
  },
  "language_info": {
   "codemirror_mode": {
    "name": "ipython",
    "version": 3
   },
   "file_extension": ".py",
   "mimetype": "text/x-python",
   "name": "python",
   "nbconvert_exporter": "python",
   "pygments_lexer": "ipython3",
   "version": "3.9.7"
  }
 },
 "nbformat": 4,
 "nbformat_minor": 5
}
