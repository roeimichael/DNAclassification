{
 "cells": [
  {
   "cell_type": "code",
   "execution_count": 3,
   "id": "f364b458",
   "metadata": {},
   "outputs": [],
   "source": [
    "import random\n",
    "import requests\n",
    "import io\n",
    "import re"
   ]
  },
  {
   "cell_type": "code",
   "execution_count": 4,
   "id": "935ab182",
   "metadata": {},
   "outputs": [
    {
     "name": "stdout",
     "output_type": "stream",
     "text": [
      "ERROR! Session/line number was not unique in database. History logging moved to new session 323\n"
     ]
    }
   ],
   "source": [
    "# Read the metadata file\n",
    "with open(\"./data/metadata\", \"r\") as file:\n",
    "    metadata_lines = file.readlines()\n",
    "\n",
    "# Dictionary to store lineage samples\n",
    "lineage_samples = {}"
   ]
  },
  {
   "cell_type": "code",
   "execution_count": 5,
   "id": "ee15e984",
   "metadata": {},
   "outputs": [],
   "source": [
    "# Process the metadata and select random samples for each lineage\n",
    "for line in metadata_lines[1:]:\n",
    "    columns = line.strip().split(\"\\t\")\n",
    "    accession_id = columns[0]\n",
    "    lineage = columns[1]\n",
    "    \n",
    "    if lineage in lineage_samples:\n",
    "        lineage_samples[lineage].append(accession_id)\n",
    "    else:\n",
    "        lineage_samples[lineage] = [accession_id]\n"
   ]
  },
  {
   "cell_type": "code",
   "execution_count": 6,
   "id": "b58b3527",
   "metadata": {},
   "outputs": [],
   "source": [
    "# Set the maximum number of sequences to download\n",
    "max_sequences = 5000\n",
    "\n",
    "# Initialize the counter for downloaded sequences\n",
    "downloaded_sequences = 0"
   ]
  },
  {
   "cell_type": "code",
   "execution_count": 8,
   "id": "c4f79622",
   "metadata": {
    "scrolled": false
   },
   "outputs": [
    {
     "name": "stdout",
     "output_type": "stream",
     "text": [
      "Download completed!\n"
     ]
    }
   ],
   "source": [
    "# Send requests until the maximum number of sequences is reached\n",
    "while downloaded_sequences < max_sequences:\n",
    "    # Choose a random lineage\n",
    "    lineage = random.choice(list(lineage_samples.keys()))\n",
    "\n",
    "    # Check if there are still samples available for the chosen lineage\n",
    "    if len(lineage_samples[lineage]) >= 100:\n",
    "        # Choose 100 random samples for the lineage\n",
    "        samples = random.sample(lineage_samples[lineage], 100)\n",
    "\n",
    "        # Remove the selected samples from the lineage's sample list\n",
    "        lineage_samples[lineage] = list(set(lineage_samples[lineage]) - set(samples))\n",
    "\n",
    "        # Send requests for the selected samples\n",
    "        for sample in samples:\n",
    "            # Construct the request URL\n",
    "            url = f\"https://www.ebi.ac.uk/Tools/dbfetch/dbfetch?db=ena_sequence&id={sample}&format=fasta&style=raw&Retrieve=Retrieve\"\n",
    "\n",
    "            # Send the request\n",
    "            response = requests.get(url)\n",
    "\n",
    "            # Check if the request was successful\n",
    "            if response.status_code == 200:\n",
    "                # Sanitize the accession ID to create a valid filename\n",
    "                filename = re.sub(r'[\\\\/:\\*\\?\"<>\\|()]', '_', sample)\n",
    "\n",
    "                # Save the response as a DNA sequence file\n",
    "                with io.open(f\"./data/xes_files/{filename}.fasta\", \"w\", encoding=\"utf-8\") as seq_file:\n",
    "                    seq_file.write(response.text)\n",
    "\n",
    "                # Increment the counter for downloaded sequences\n",
    "                downloaded_sequences += 1\n",
    "\n",
    "                # Check if the maximum number of sequences has been reached\n",
    "                if downloaded_sequences >= max_sequences:\n",
    "                    break\n",
    "\n",
    "print(\"Download completed!\")"
   ]
  },
  {
   "cell_type": "code",
   "execution_count": 7,
   "id": "9fc09e47",
   "metadata": {},
   "outputs": [
    {
     "name": "stderr",
     "output_type": "stream",
     "text": [
      "C:\\Users\\roeym\\AppData\\Local\\Temp/ipykernel_12972/1723808527.py:6: DtypeWarning: Columns (1,8) have mixed types. Specify dtype option on import or set low_memory=False.\n",
      "  metadata = pd.read_csv('./data/metadata', delimiter='\\t')\n",
      "100%|█████████████████████████████████████████████████████████████████████████| 4982/4982 [00:00<00:00, 1251633.57it/s]\n"
     ]
    }
   ],
   "source": [
    "import pandas as pd\n",
    "import os\n",
    "from tqdm import tqdm\n",
    "\n",
    "metadata = pd.read_csv('./data/metadata', delimiter='\\t')\n",
    "fasta_dir = './data/xes_files/'\n",
    "fasta_files = os.listdir(fasta_dir)\n",
    "fasta_ids = []\n",
    "for file_name in tqdm(fasta_files):  \n",
    "    if file_name.endswith('.fasta'):\n",
    "        id_part = file_name.split('_')[1]\n",
    "        fasta_ids.append(id_part)\n",
    "\n",
    "subdata = metadata[metadata['id'].isin(fasta_ids)]\n",
    "\n",
    "subdata.to_csv('sampled_data.csv', index=False)\n"
   ]
  },
  {
   "cell_type": "code",
   "execution_count": null,
   "id": "359c9956",
   "metadata": {},
   "outputs": [],
   "source": []
  }
 ],
 "metadata": {
  "kernelspec": {
   "display_name": "Python 3 (ipykernel)",
   "language": "python",
   "name": "python3"
  },
  "language_info": {
   "codemirror_mode": {
    "name": "ipython",
    "version": 3
   },
   "file_extension": ".py",
   "mimetype": "text/x-python",
   "name": "python",
   "nbconvert_exporter": "python",
   "pygments_lexer": "ipython3",
   "version": "3.9.7"
  }
 },
 "nbformat": 4,
 "nbformat_minor": 5
}
